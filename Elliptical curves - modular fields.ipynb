{
 "cells": [
  {
   "cell_type": "code",
   "execution_count": 71,
   "metadata": {
    "collapsed": true
   },
   "outputs": [],
   "source": [
    "#elliptic curves on modular fields of the form Z_p"
   ]
  },
  {
   "cell_type": "code",
   "execution_count": 285,
   "metadata": {
    "collapsed": true
   },
   "outputs": [],
   "source": [
    "def defcurve(a,b,p):\n",
    "    out = [a,b,p]\n",
    "    return out"
   ]
  },
  {
   "cell_type": "code",
   "execution_count": 286,
   "metadata": {
    "collapsed": false
   },
   "outputs": [],
   "source": [
    "Curve = defcurve(-1,0,61)"
   ]
  },
  {
   "cell_type": "code",
   "execution_count": 287,
   "metadata": {
    "collapsed": false
   },
   "outputs": [
    {
     "data": {
      "text/plain": [
       "[-1, 0, 61]"
      ]
     },
     "execution_count": 287,
     "metadata": {},
     "output_type": "execute_result"
    }
   ],
   "source": [
    "Curve"
   ]
  },
  {
   "cell_type": "code",
   "execution_count": 288,
   "metadata": {
    "collapsed": false
   },
   "outputs": [],
   "source": [
    "def curve_points(curve): #prend comme input une courbe elliptique sur un champ modulaire y^2 = x^3 + ax + b mod (p)\n",
    "    out = []\n",
    "    \n",
    "    for x in range(curve[2]):  #vérifie l'équation pour tous les entiers entre 0 et p \n",
    "        for y in range(curve[2]):\n",
    "            if (y^2)%curve[2] == (x^3 +curve[0]*x + curve[1])%curve[2]:\n",
    "                point = [x,y]\n",
    "                out.append(point)\n",
    "    out.append('zero') # le zéro est le point à l'infini, le neutre de la loi de groupe\n",
    "    return out   #restitue la liste des points de la courbe"
   ]
  },
  {
   "cell_type": "code",
   "execution_count": 289,
   "metadata": {
    "collapsed": false
   },
   "outputs": [],
   "source": [
    "Points = curve_points(Curve)"
   ]
  },
  {
   "cell_type": "code",
   "execution_count": 290,
   "metadata": {
    "collapsed": false
   },
   "outputs": [
    {
     "data": {
      "text/plain": [
       "[[0, 0],\n",
       " [1, 0],\n",
       " [4, 11],\n",
       " [4, 50],\n",
       " [6, 24],\n",
       " [6, 37],\n",
       " [8, 4],\n",
       " [8, 57],\n",
       " [9, 7],\n",
       " [9, 54],\n",
       " [10, 21],\n",
       " [10, 40],\n",
       " [11, 10],\n",
       " [11, 51],\n",
       " [13, 7],\n",
       " [13, 54],\n",
       " [14, 30],\n",
       " [14, 31],\n",
       " [15, 26],\n",
       " [15, 35],\n",
       " [17, 4],\n",
       " [17, 57],\n",
       " [18, 18],\n",
       " [18, 43],\n",
       " [22, 16],\n",
       " [22, 45],\n",
       " [23, 26],\n",
       " [23, 35],\n",
       " [24, 21],\n",
       " [24, 40],\n",
       " [25, 17],\n",
       " [25, 44],\n",
       " [27, 21],\n",
       " [27, 40],\n",
       " [28, 5],\n",
       " [28, 56],\n",
       " [33, 6],\n",
       " [33, 55],\n",
       " [34, 13],\n",
       " [34, 48],\n",
       " [36, 4],\n",
       " [36, 57],\n",
       " [37, 13],\n",
       " [37, 48],\n",
       " [38, 19],\n",
       " [38, 42],\n",
       " [39, 7],\n",
       " [39, 54],\n",
       " [43, 15],\n",
       " [43, 46],\n",
       " [44, 17],\n",
       " [44, 44],\n",
       " [46, 19],\n",
       " [46, 42],\n",
       " [47, 25],\n",
       " [47, 36],\n",
       " [48, 16],\n",
       " [48, 45],\n",
       " [50, 12],\n",
       " [50, 49],\n",
       " [51, 13],\n",
       " [51, 48],\n",
       " [52, 16],\n",
       " [52, 45],\n",
       " [53, 17],\n",
       " [53, 44],\n",
       " [55, 20],\n",
       " [55, 41],\n",
       " [57, 1],\n",
       " [57, 60],\n",
       " [60, 0],\n",
       " 'zero']"
      ]
     },
     "execution_count": 290,
     "metadata": {},
     "output_type": "execute_result"
    }
   ],
   "source": [
    "Points"
   ]
  },
  {
   "cell_type": "code",
   "execution_count": 269,
   "metadata": {
    "collapsed": false
   },
   "outputs": [],
   "source": [
    "def addpoints_on_curve(P1,P2,curve): #somme les points P1 et P2 sur la courbe \"curve\", en tenant compte du point à l'infini\n",
    "    controleP1 = 0\n",
    "    controleP2 = 0 #AAAAAAAAAAAAAAAAAAAAAAAAAAAAAAAAAAAAAAH\n",
    "    points = curve_points(curve)\n",
    "    n = len(points)\n",
    "    if P1 == 'zero': return P2 #\n",
    "    elif P2 == 'zero': return P1\n",
    "    if P1 != 'zero' and P2 != 'zero':\n",
    "        for i in range(n):\n",
    "            if points[i] == P1:\n",
    "                controleP1 = 1\n",
    "            if points[i] == P2:\n",
    "                controleP2 = 1\n",
    "        if controleP1 == 0 or controleP2 == 0:\n",
    "            return 0\n",
    "        else:\n",
    "            if P1 != P2:\n",
    "                if P1[0] == P2[0]: return 'zero'\n",
    "                else:\n",
    "                    m = (P2[1]-P1[1])/(P2[0]-P1[0])\n",
    "                    x = (m^2 -P1[0]-P2[0]) % curve[2]\n",
    "                    y = (m*(P1[0]-x)-P1[1])%curve[2]\n",
    "                    out = [x,y]\n",
    "            elif P1 == P2:\n",
    "                m = (3*(P1[0]^2)+curve[0])/(2*P1[1])\n",
    "                x = (m^2 -P1[0]-P2[0]) % curve[2]\n",
    "                y = (m*(P1[0]-x)-P1[1])%curve[2]\n",
    "                out = [x,y]\n",
    "            return out #l'output est le point resultant de l'addition"
   ]
  },
  {
   "cell_type": "code",
   "execution_count": 283,
   "metadata": {
    "collapsed": false
   },
   "outputs": [],
   "source": [
    "#on définit deux points quelconque qui apartiennent à la courbe\n",
    "P1 = [52,16]\n",
    "\n",
    "P2 = [55,41]"
   ]
  },
  {
   "cell_type": "code",
   "execution_count": 284,
   "metadata": {
    "collapsed": false
   },
   "outputs": [
    {
     "data": {
      "text/plain": [
       "[13, 54]"
      ]
     },
     "execution_count": 284,
     "metadata": {},
     "output_type": "execute_result"
    }
   ],
   "source": [
    "addpoints_on_curve(P1,P1,Curve)"
   ]
  },
  {
   "cell_type": "code",
   "execution_count": 278,
   "metadata": {
    "collapsed": false
   },
   "outputs": [],
   "source": [
    "def multiplypoint_on_curve(n,P,curve): #multiplication scalaire par un naturel n du point P sur la courbe \"curve\".\n",
    "    Sum = P\n",
    "    for i in range(n-1):\n",
    "        Sum = addpoints_on_curve(Sum,P,curve)\n",
    "    out = Sum\n",
    "    return out #l'output est le point resultant du produit (c'est P+P+P+...+P, n fois)"
   ]
  },
  {
   "cell_type": "code",
   "execution_count": 279,
   "metadata": {
    "collapsed": false
   },
   "outputs": [
    {
     "data": {
      "text/plain": [
       "'zero'"
      ]
     },
     "execution_count": 279,
     "metadata": {},
     "output_type": "execute_result"
    }
   ],
   "source": [
    "multiplypoint_on_curve(42,P1,Curve)"
   ]
  },
  {
   "cell_type": "code",
   "execution_count": null,
   "metadata": {
    "collapsed": false
   },
   "outputs": [],
   "source": []
  },
  {
   "cell_type": "code",
   "execution_count": null,
   "metadata": {
    "collapsed": true
   },
   "outputs": [],
   "source": []
  }
 ],
 "metadata": {
  "kernelspec": {
   "display_name": "SageMath 8.0",
   "language": "",
   "name": "sagemath"
  },
  "language_info": {
   "codemirror_mode": {
    "name": "ipython",
    "version": 2
   },
   "file_extension": ".py",
   "mimetype": "text/x-python",
   "name": "python",
   "nbconvert_exporter": "python",
   "pygments_lexer": "ipython2",
   "version": "2.7.13"
  }
 },
 "nbformat": 4,
 "nbformat_minor": 2
}
