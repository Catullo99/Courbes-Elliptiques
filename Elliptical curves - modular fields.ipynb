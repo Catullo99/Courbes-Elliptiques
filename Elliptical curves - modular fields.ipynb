{
 "cells": [
  {
   "cell_type": "code",
   "execution_count": 71,
   "metadata": {
    "collapsed": true
   },
   "outputs": [],
   "source": [
    "#elliptic curves on modular fields of the form Z_p"
   ]
  },
  {
   "cell_type": "code",
   "execution_count": 129,
   "metadata": {
    "collapsed": true
   },
   "outputs": [],
   "source": [
    "def defcurve(a,b,p):\n",
    "    out = [a,b,p]\n",
    "    return out"
   ]
  },
  {
   "cell_type": "code",
   "execution_count": 170,
   "metadata": {
    "collapsed": false
   },
   "outputs": [],
   "source": [
    "Curve = defcurve(-1,0,61)"
   ]
  },
  {
   "cell_type": "code",
   "execution_count": 171,
   "metadata": {
    "collapsed": false
   },
   "outputs": [
    {
     "data": {
      "text/plain": [
       "[-1, 0, 61]"
      ]
     },
     "execution_count": 171,
     "metadata": {},
     "output_type": "execute_result"
    }
   ],
   "source": [
    "Curve"
   ]
  },
  {
   "cell_type": "code",
   "execution_count": 258,
   "metadata": {
    "collapsed": false
   },
   "outputs": [],
   "source": [
    "def curve_points(curve): #prend comme input une courbe elliptique sur un champ modulaire y^2 = x^3 + ax + b mod (p)\n",
    "    out = []\n",
    "    \n",
    "    for x in range(curve[2]):  #vérifie l'équation pour tous les entiers entre 0 et p \n",
    "        for y in range(curve[2]):\n",
    "            if (y^2)%curve[2] == (x^3 +curve[0]*x + curve[1])%curve[2]:\n",
    "                point = [x,y]\n",
    "                out.append(point)\n",
    "    out.append('zero')\n",
    "    return out   #restitue la liste des points de la courbe"
   ]
  },
  {
   "cell_type": "code",
   "execution_count": 259,
   "metadata": {
    "collapsed": false
   },
   "outputs": [],
   "source": [
    "Points = curve_points(Curve)"
   ]
  },
  {
   "cell_type": "code",
   "execution_count": 269,
   "metadata": {
    "collapsed": false
   },
   "outputs": [],
   "source": [
    "def addpoints_on_curve(P1,P2,curve):\n",
    "    controleP1 = 0\n",
    "    controleP2 = 0 #AAAAAAAAAAAAAAAAAAAAAAAAAAAAAAAAAAAAAAH\n",
    "    points = curve_points(curve)\n",
    "    n = len(points)\n",
    "    if P1 == 'zero': return P2\n",
    "    elif P2 == 'zero': return P1\n",
    "    if P1 != 'zero' and P2 != 'zero':\n",
    "        for i in range(n):\n",
    "            if points[i] == P1:\n",
    "                controleP1 = 1\n",
    "            if points[i] == P2:\n",
    "                controleP2 = 1\n",
    "        if controleP1 == 0 or controleP2 == 0:\n",
    "            return 0\n",
    "        else:\n",
    "            if P1 != P2:\n",
    "                if P1[0] == P2[0]: return 'zero'\n",
    "                else:\n",
    "                    m = (P2[1]-P1[1])/(P2[0]-P1[0])\n",
    "                    x = (m^2 -P1[0]-P2[0]) % curve[2]\n",
    "                    y = (m*(P1[0]-x)-P1[1])%curve[2]\n",
    "                    out = [x,y]\n",
    "            elif P1 == P2:\n",
    "                m = (3*(P1[0]^2)+curve[0])/(2*P1[1])\n",
    "                x = (m^2 -P1[0]-P2[0]) % curve[2]\n",
    "                y = (m*(P1[0]-x)-P1[1])%curve[2]\n",
    "                out = [x,y]\n",
    "            return out"
   ]
  },
  {
   "cell_type": "code",
   "execution_count": 270,
   "metadata": {
    "collapsed": false
   },
   "outputs": [],
   "source": [
    "P1 = [52,16]\n",
    "P2 = [55,41]"
   ]
  },
  {
   "cell_type": "code",
   "execution_count": 271,
   "metadata": {
    "collapsed": false
   },
   "outputs": [
    {
     "data": {
      "text/plain": [
       "[13, 54]"
      ]
     },
     "execution_count": 271,
     "metadata": {},
     "output_type": "execute_result"
    }
   ],
   "source": [
    "addpoints_on_curve(P1,P1,Curve)"
   ]
  },
  {
   "cell_type": "code",
   "execution_count": 272,
   "metadata": {
    "collapsed": false
   },
   "outputs": [],
   "source": [
    "def multiplypoint_on_curve(n,P,curve):\n",
    "    Sum = P\n",
    "    for i in range(n-1):\n",
    "        Sum = addpoints_on_curve(Sum,P,curve)\n",
    "    out = Sum\n",
    "    return out"
   ]
  },
  {
   "cell_type": "code",
   "execution_count": 277,
   "metadata": {
    "collapsed": false
   },
   "outputs": [
    {
     "data": {
      "text/plain": [
       "'zero'"
      ]
     },
     "execution_count": 277,
     "metadata": {},
     "output_type": "execute_result"
    }
   ],
   "source": [
    "multiplypoint_on_curve(42,P1,Curve)"
   ]
  },
  {
   "cell_type": "code",
   "execution_count": null,
   "metadata": {
    "collapsed": false
   },
   "outputs": [],
   "source": []
  },
  {
   "cell_type": "code",
   "execution_count": null,
   "metadata": {
    "collapsed": true
   },
   "outputs": [],
   "source": []
  }
 ],
 "metadata": {
  "kernelspec": {
   "display_name": "SageMath 8.0",
   "language": "",
   "name": "sagemath"
  },
  "language_info": {
   "codemirror_mode": {
    "name": "ipython",
    "version": 2
   },
   "file_extension": ".py",
   "mimetype": "text/x-python",
   "name": "python",
   "nbconvert_exporter": "python",
   "pygments_lexer": "ipython2",
   "version": "2.7.13"
  }
 },
 "nbformat": 4,
 "nbformat_minor": 2
}
