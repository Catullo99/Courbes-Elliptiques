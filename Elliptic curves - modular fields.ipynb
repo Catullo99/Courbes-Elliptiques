{
 "cells": [
  {
   "cell_type": "code",
   "execution_count": 13,
   "metadata": {
    "collapsed": true,
    "deletable": true,
    "editable": true
   },
   "outputs": [],
   "source": [
    "#elliptic curves on R^2 and modular fields of the form Z_p"
   ]
  },
  {
   "cell_type": "code",
   "execution_count": 55,
   "metadata": {
    "collapsed": false
   },
   "outputs": [
    {
     "data": {
      "text/plain": [
       "zero"
      ]
     },
     "execution_count": 55,
     "metadata": {},
     "output_type": "execute_result"
    }
   ],
   "source": [
    "var ('zero')"
   ]
  },
  {
   "cell_type": "code",
   "execution_count": 62,
   "metadata": {
    "collapsed": false
   },
   "outputs": [
    {
     "data": {
      "text/plain": [
       "'zero'"
      ]
     },
     "execution_count": 62,
     "metadata": {},
     "output_type": "execute_result"
    }
   ],
   "source": [
    "zero"
   ]
  },
  {
   "cell_type": "code",
   "execution_count": 63,
   "metadata": {
    "collapsed": true,
    "deletable": true,
    "editable": true
   },
   "outputs": [],
   "source": [
    "def def_modcurve(a,b,c,p): #définit une courbe avec les coéfficients de\n",
    "    out = [a,b,c,p]\n",
    "    return out"
   ]
  },
  {
   "cell_type": "code",
   "execution_count": 77,
   "metadata": {
    "collapsed": false,
    "deletable": true,
    "editable": true
   },
   "outputs": [],
   "source": [
    "Curve = def_modcurve(1,-1,0,89)"
   ]
  },
  {
   "cell_type": "code",
   "execution_count": 78,
   "metadata": {
    "collapsed": false,
    "deletable": true,
    "editable": true
   },
   "outputs": [
    {
     "data": {
      "text/plain": [
       "[1, -1, 0, 89]"
      ]
     },
     "execution_count": 78,
     "metadata": {},
     "output_type": "execute_result"
    }
   ],
   "source": [
    "Curve"
   ]
  },
  {
   "cell_type": "code",
   "execution_count": 79,
   "metadata": {
    "collapsed": false,
    "deletable": true,
    "editable": true
   },
   "outputs": [],
   "source": [
    "def modcurve_points(curve): #prend comme input une courbe elliptique sur un champ modulaire y^2 = x^3 + ax + b mod (p)\n",
    "    out = []\n",
    "    \n",
    "    for x in range(curve[3]):  #vérifie l'équation pour tous les entiers entre 0 et p \n",
    "        for y in range(curve[3]):\n",
    "            if (y^2)%curve[3] == (curve[0]*x^3 +curve[1]*x + curve[2])%curve[3]:\n",
    "                point = [x,y]\n",
    "                out.append(point)\n",
    "    out.append(zero) # le zéro est le point à l'infini, le neutre de la loi de groupe\n",
    "    return out   #restitue la liste des points de la courbe"
   ]
  },
  {
   "cell_type": "code",
   "execution_count": 80,
   "metadata": {
    "collapsed": false,
    "deletable": true,
    "editable": true
   },
   "outputs": [],
   "source": [
    "Points = modcurve_points(Curve)"
   ]
  },
  {
   "cell_type": "code",
   "execution_count": 131,
   "metadata": {
    "collapsed": false,
    "deletable": true,
    "editable": true
   },
   "outputs": [],
   "source": [
    "def addpoints_on_modcurve(P1,P2,curve): #somme les points P1 et P2 sur la courbe \"curve\", en tenant compte du point à l'infini\n",
    "    controleP1 = 0\n",
    "    controleP2 = 0 #AAAAAAAAAAAAAAAAAAAAAAAAAAAAAAAAAAAAAAH\n",
    "    n = len(Points)\n",
    "    if P1 == zero:\n",
    "        return P2\n",
    "    elif P2 == zero:\n",
    "        return P1\n",
    "    if P1 != zero and P2 != zero:\n",
    "        for i in range(n):\n",
    "            if Points[i] == P1:\n",
    "                controleP1 = 1\n",
    "            if Points[i] == P2:\n",
    "                controleP2 = 1\n",
    "        if controleP1 == 0 or controleP2 == 0:\n",
    "            return 'Error boi'\n",
    "        else:\n",
    "            if P1 != P2:\n",
    "                if P1[0] == P2[0]: return 'zero'\n",
    "                else:\n",
    "                    m = (P2[1]-P1[1])/(P2[0]-P1[0])\n",
    "                    x = (m^2 -P1[0]-P2[0])%curve[3]\n",
    "                    y = (m*(P1[0]-x)-P1[1])%curve[3]\n",
    "                    out = [x,y]\n",
    "            elif P1 == P2:\n",
    "                m = (3*(P1[0]^2)+curve[1])/(2*P1[1])\n",
    "                x = (m^2 -P1[0]-P2[0]) % curve[3]\n",
    "                y = (m*(P1[0]-x)-P1[1])%curve[3]\n",
    "                out = [x,y]\n",
    "            return out #l'output est le point resultant de l'addition"
   ]
  },
  {
   "cell_type": "code",
   "execution_count": 132,
   "metadata": {
    "collapsed": false,
    "deletable": true,
    "editable": true
   },
   "outputs": [],
   "source": [
    "#on définit deux points quelconque qui apartiennent à la courbe\n",
    "P1 = [66,7]\n",
    "\n",
    "P2 = [88,0]"
   ]
  },
  {
   "cell_type": "code",
   "execution_count": 133,
   "metadata": {
    "collapsed": false,
    "deletable": true,
    "editable": true
   },
   "outputs": [
    {
     "data": {
      "text/plain": [
       "[7, 43]"
      ]
     },
     "execution_count": 133,
     "metadata": {},
     "output_type": "execute_result"
    }
   ],
   "source": [
    "addpoints_on_modcurve(P1,P2,Curve)"
   ]
  },
  {
   "cell_type": "code",
   "execution_count": 134,
   "metadata": {
    "collapsed": false,
    "deletable": true,
    "editable": true
   },
   "outputs": [],
   "source": [
    "def multiplypoint_on_modcurve(n,P,curve): #multiplication scalaire par un naturel n du point P sur la courbe \"curve\".\n",
    "    if n == 0:\n",
    "        return zero\n",
    "\n",
    "    Sum = P\n",
    "    for i in range(n-1):\n",
    "        Sum = addpoints_on_modcurve(Sum,P,curve)\n",
    "    out = Sum\n",
    "    return out #l'output est le point resultant du produit (c'est P+P+P+...+P, n fois)"
   ]
  },
  {
   "cell_type": "code",
   "execution_count": 135,
   "metadata": {
    "collapsed": false,
    "deletable": true,
    "editable": true
   },
   "outputs": [
    {
     "data": {
      "text/plain": [
       "[66, 7]"
      ]
     },
     "execution_count": 135,
     "metadata": {},
     "output_type": "execute_result"
    }
   ],
   "source": [
    "multiplypoint_on_modcurve(20001,P1,Curve)"
   ]
  },
  {
   "cell_type": "code",
   "execution_count": null,
   "metadata": {
    "collapsed": true
   },
   "outputs": [],
   "source": []
  }
 ],
 "metadata": {
  "kernelspec": {
   "display_name": "SageMath 8.0",
   "language": "",
   "name": "sagemath"
  },
  "language_info": {
   "codemirror_mode": {
    "name": "ipython",
    "version": 2
   },
   "file_extension": ".py",
   "mimetype": "text/x-python",
   "name": "python",
   "nbconvert_exporter": "python",
   "pygments_lexer": "ipython2",
   "version": "2.7.13"
  }
 },
 "nbformat": 4,
 "nbformat_minor": 2
}
